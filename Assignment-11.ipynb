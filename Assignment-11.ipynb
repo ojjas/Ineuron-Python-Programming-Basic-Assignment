{
 "cells": [
  {
   "cell_type": "markdown",
   "metadata": {},
   "source": [
    "# 1. Write a Python program to find words which are greater than given length k?"
   ]
  },
  {
   "cell_type": "code",
   "execution_count": 1,
   "metadata": {},
   "outputs": [],
   "source": [
    "def greaterthan(sentense):\n",
    "    words = []\n",
    "    split = sentense.split(\" \")\n",
    "    print(split)\n",
    "    k = int(input(\"Enter length: \"))\n",
    "    for i in split:\n",
    "        if len(i)>k:\n",
    "            words.append(i)\n",
    "    return words"
   ]
  },
  {
   "cell_type": "code",
   "execution_count": 2,
   "metadata": {},
   "outputs": [
    {
     "name": "stdout",
     "output_type": "stream",
     "text": [
      "['hello', 'world', 'how', 'are', 'you']\n",
      "Enter length: 4\n"
     ]
    },
    {
     "data": {
      "text/plain": [
       "['hello', 'world']"
      ]
     },
     "execution_count": 2,
     "metadata": {},
     "output_type": "execute_result"
    }
   ],
   "source": [
    "greaterthan(\"hello world how are you\")"
   ]
  },
  {
   "cell_type": "markdown",
   "metadata": {},
   "source": [
    "# 2. Write a Python program for removing i-th character from a string?"
   ]
  },
  {
   "cell_type": "code",
   "execution_count": 5,
   "metadata": {},
   "outputs": [],
   "source": [
    "def remove_char(sentence):\n",
    "    split = sentence.split(\" \")\n",
    "    i_th = int(input(\"Enter position: \"))\n",
    "    for i in split:\n",
    "        if split[i_th]==i:\n",
    "            split.remove(i)\n",
    "    sentence = \" \".join(split)\n",
    "    return sentence"
   ]
  },
  {
   "cell_type": "code",
   "execution_count": 6,
   "metadata": {},
   "outputs": [
    {
     "name": "stdout",
     "output_type": "stream",
     "text": [
      "Enter position: 1\n"
     ]
    },
    {
     "data": {
      "text/plain": [
       "'hello'"
      ]
     },
     "execution_count": 6,
     "metadata": {},
     "output_type": "execute_result"
    }
   ],
   "source": [
    "remove_char(\"hello world!\")"
   ]
  },
  {
   "cell_type": "markdown",
   "metadata": {},
   "source": [
    "# 3. Write a Python program to split and join a string?"
   ]
  },
  {
   "cell_type": "code",
   "execution_count": 10,
   "metadata": {},
   "outputs": [],
   "source": [
    "def split_join(sen):\n",
    "    split = sen.split()\n",
    "    print(\"Splitted sentence: \",split)\n",
    "    join  = ' '.join(split)\n",
    "    print(\"Sentence joined is: \",join)"
   ]
  },
  {
   "cell_type": "code",
   "execution_count": 11,
   "metadata": {},
   "outputs": [
    {
     "name": "stdout",
     "output_type": "stream",
     "text": [
      "Splitted sentence:  ['Hello', 'World!', 'I', 'am', 'a', 'good', 'boy.']\n",
      "Sentence joined is:  Hello World! I am a good boy.\n"
     ]
    }
   ],
   "source": [
    "split_join('Hello World! I am a good boy.')"
   ]
  },
  {
   "cell_type": "markdown",
   "metadata": {},
   "source": [
    "# 4. Write a Python to check if a given string is binary string or not?"
   ]
  },
  {
   "cell_type": "code",
   "execution_count": 12,
   "metadata": {},
   "outputs": [],
   "source": [
    "def binary_check(string):\n",
    "    arrange = set(string)\n",
    "    binary = {'0','1'}\n",
    "    \n",
    "    if binary == arrange or arrange=={'0'} or arrange == {'1'}:\n",
    "        print(\"String is binary\")\n",
    "    else:\n",
    "        print(\"String not binary\")"
   ]
  },
  {
   "cell_type": "code",
   "execution_count": 13,
   "metadata": {},
   "outputs": [
    {
     "name": "stdout",
     "output_type": "stream",
     "text": [
      "String not binary\n"
     ]
    }
   ],
   "source": [
    "binary_check('Hello World!')"
   ]
  },
  {
   "cell_type": "code",
   "execution_count": 14,
   "metadata": {},
   "outputs": [
    {
     "name": "stdout",
     "output_type": "stream",
     "text": [
      "String is binary\n"
     ]
    }
   ],
   "source": [
    "binary_check('10101001')"
   ]
  },
  {
   "cell_type": "markdown",
   "metadata": {},
   "source": [
    "# 5. Write a Python program to find uncommon words from two Strings?"
   ]
  },
  {
   "cell_type": "code",
   "execution_count": 15,
   "metadata": {},
   "outputs": [
    {
     "name": "stdout",
     "output_type": "stream",
     "text": [
      "Enter String: I love icecream\n",
      "Enter String: I love cricket\n",
      "['I', 'love', 'icecream'] \n",
      " ['I', 'love', 'cricket']\n",
      "['icecream', 'cricket']\n"
     ]
    }
   ],
   "source": [
    "string1 = str(input(\"Enter String: \"))\n",
    "string2 = str(input(\"Enter String: \"))\n",
    "a = string1.split()\n",
    "b = string2.split()\n",
    "print(a,\"\\n\", b)\n",
    "UC = []\n",
    "for i in a:\n",
    "    if i not in b:\n",
    "        UC.append(i)\n",
    "for j in b:\n",
    "    if j not in a:\n",
    "        UC.append(j)\n",
    "print(UC)"
   ]
  },
  {
   "cell_type": "markdown",
   "metadata": {},
   "source": [
    "# 6. Write a Python to find all duplicate characters in string?"
   ]
  },
  {
   "cell_type": "code",
   "execution_count": 16,
   "metadata": {},
   "outputs": [
    {
     "name": "stdout",
     "output_type": "stream",
     "text": [
      "Enter string:  I love cricket\n",
      "Duplicate characters are:  [' ', 'c', 'e']\n"
     ]
    }
   ],
   "source": [
    "string = str(input(\"Enter string:  \"))\n",
    "char = []\n",
    "duplicate = []\n",
    "for i in string:\n",
    "    if i  not in char:\n",
    "        char.append(i)\n",
    "    else:\n",
    "        duplicate.append(i)\n",
    "print(\"Duplicate characters are: \" ,duplicate)"
   ]
  },
  {
   "cell_type": "markdown",
   "metadata": {},
   "source": [
    "# 7. Write a Python Program to check if a string contains any special character?"
   ]
  },
  {
   "cell_type": "code",
   "execution_count": 17,
   "metadata": {},
   "outputs": [
    {
     "name": "stdout",
     "output_type": "stream",
     "text": [
      "Enter string: Hello WORLD!\n",
      "Special Char ! found in given string\n"
     ]
    }
   ],
   "source": [
    "spl_char = '[@_!#$%^&*()<>?/\\|}{~:]'\n",
    "string = str(input(\"Enter string: \"))\n",
    "\n",
    "for i in string:\n",
    "    if i not in spl_char:\n",
    "        continue\n",
    "        \n",
    "    else:\n",
    "        print(\"Special Char {} found in given string\".format(i))"
   ]
  }
 ],
 "metadata": {
  "kernelspec": {
   "display_name": "Python 3",
   "language": "python",
   "name": "python3"
  },
  "language_info": {
   "codemirror_mode": {
    "name": "ipython",
    "version": 3
   },
   "file_extension": ".py",
   "mimetype": "text/x-python",
   "name": "python",
   "nbconvert_exporter": "python",
   "pygments_lexer": "ipython3",
   "version": "3.8.3"
  }
 },
 "nbformat": 4,
 "nbformat_minor": 4
}
