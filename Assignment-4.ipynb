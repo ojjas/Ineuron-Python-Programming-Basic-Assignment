{
 "cells": [
  {
   "cell_type": "markdown",
   "metadata": {},
   "source": [
    "# 1. Write a Python Program to Find the Factorial of a Number."
   ]
  },
  {
   "cell_type": "code",
   "execution_count": 6,
   "metadata": {},
   "outputs": [
    {
     "name": "stdout",
     "output_type": "stream",
     "text": [
      "Enter number: 6\n"
     ]
    },
    {
     "data": {
      "text/plain": [
       "720"
      ]
     },
     "execution_count": 6,
     "metadata": {},
     "output_type": "execute_result"
    }
   ],
   "source": [
    "def factorial(n):\n",
    "    if n>=0:\n",
    "        if (n==1 or n==0):\n",
    "            return 1\n",
    "        else:\n",
    "            return n * factorial(n-1)\n",
    "    else:\n",
    "        return(\"Factorial of a negative number does not exist\")\n",
    "    \n",
    "factorial(int(input(\"Enter number: \")))\n",
    "    "
   ]
  },
  {
   "cell_type": "markdown",
   "metadata": {},
   "source": [
    "# 2. Write a Python Program to Display the multiplication Table."
   ]
  },
  {
   "cell_type": "code",
   "execution_count": 4,
   "metadata": {},
   "outputs": [
    {
     "name": "stdout",
     "output_type": "stream",
     "text": [
      "Enter the number: 2\n",
      "\n",
      "Multiplication Table of 2:\n",
      "2 x 1 = 2\n",
      "2 x 2 = 4\n",
      "2 x 3 = 6\n",
      "2 x 4 = 8\n",
      "2 x 5 = 10\n",
      "2 x 6 = 12\n",
      "2 x 7 = 14\n",
      "2 x 8 = 16\n",
      "2 x 9 = 18\n",
      "2 x 10 = 20\n"
     ]
    }
   ],
   "source": [
    "number = int(input(\"Enter the number: \"))\n",
    "print()\n",
    "print(f\"Multiplication Table of {number}:\")\n",
    "\n",
    "for i in range(1,11):\n",
    "    print(f\"{number} x {i} = {number * i}\")\n"
   ]
  },
  {
   "cell_type": "markdown",
   "metadata": {},
   "source": [
    "# 3. Write a Python Program to Print the Fibonacci sequence."
   ]
  },
  {
   "cell_type": "code",
   "execution_count": 72,
   "metadata": {},
   "outputs": [
    {
     "name": "stdout",
     "output_type": "stream",
     "text": [
      "Enter the number of terms: 4\n",
      "\n",
      "Fibonacci sequence: \n",
      "0 1 1 2 "
     ]
    }
   ],
   "source": [
    "def fibonacci(n):\n",
    "    if (n<=1):\n",
    "        return n\n",
    "    else:\n",
    "        return (fibonacci(n-1) + fibonacci(n-2))\n",
    "\n",
    "n_terms = int(input(\"Enter the number of terms: \"))\n",
    "\n",
    "if n_terms<=0:\n",
    "    print(\"ERROR! Enter a positive integer\")\n",
    "else:\n",
    "    print()\n",
    "    print(\"Fibonacci sequence: \")\n",
    "    for i in range(0,n_terms):\n",
    "        print(fibonacci(i), end =\" \")"
   ]
  },
  {
   "cell_type": "markdown",
   "metadata": {},
   "source": [
    "# 4. Write a Python Program to Check Armstrong Number."
   ]
  },
  {
   "cell_type": "code",
   "execution_count": 43,
   "metadata": {},
   "outputs": [
    {
     "name": "stdout",
     "output_type": "stream",
     "text": [
      "Enter number: 407\n",
      "\n",
      "407 is an Armstrong Number\n"
     ]
    }
   ],
   "source": [
    "num = int(input(\"Enter number: \"))\n",
    "\n",
    "order = len(str(num))\n",
    "sum = 0\n",
    "temp = num\n",
    "\n",
    "while(temp>0):\n",
    "    dig = temp % 10\n",
    "    sum = sum + (dig**order)\n",
    "    temp = temp//10\n",
    "\n",
    "print()\n",
    "\n",
    "if sum == num:\n",
    "    print(f\"{num} is an Armstrong Number\")\n",
    "else:\n",
    "    print(f\"{num} is not an Armstrong Number\")\n",
    "    "
   ]
  },
  {
   "cell_type": "markdown",
   "metadata": {},
   "source": [
    "# 5. Write a Python Program to Find Armstrong Number in an Interval."
   ]
  },
  {
   "cell_type": "code",
   "execution_count": 53,
   "metadata": {},
   "outputs": [
    {
     "name": "stdout",
     "output_type": "stream",
     "text": [
      "Enter lower value: 100\n",
      "Enter upper value: 2000\n",
      "\n",
      "Armstrong Numbers between 100 and 2000 are: \n",
      "[153, 370, 371, 407, 1634]\n"
     ]
    }
   ],
   "source": [
    "lower  = int(input(\"Enter lower value: \"))\n",
    "\n",
    "upper  = int(input(\"Enter upper value: \"))\n",
    "\n",
    "list = []\n",
    "for num in range(lower, upper+1):\n",
    "    sum = 0 \n",
    "    order = len(str(num))\n",
    "    temp = num\n",
    "    \n",
    "    while(temp>0):\n",
    "        dig = temp % 10\n",
    "        sum = sum + (dig**order)\n",
    "        temp = temp//10\n",
    "\n",
    "    if sum == num:\n",
    "        list.append(num)\n",
    "print()\n",
    "print(f\"Armstrong Numbers between {lower} and {upper} are: \")\n",
    "print(list)"
   ]
  },
  {
   "cell_type": "markdown",
   "metadata": {},
   "source": [
    "# 6. Write a Python Program to Find the Sum of Natural Numbers."
   ]
  },
  {
   "cell_type": "code",
   "execution_count": 71,
   "metadata": {},
   "outputs": [
    {
     "name": "stdout",
     "output_type": "stream",
     "text": [
      "Enter number: 101\n",
      "The sum is: 5151\n"
     ]
    }
   ],
   "source": [
    "num = int(input(\"Enter number: \"))\n",
    "sum = 0\n",
    "if num>=0:\n",
    "    for i in range(num,0,-1):\n",
    "        sum = sum + i\n",
    "    print(f\"The sum is: {sum}\")\n",
    "else:\n",
    "    print(\"Enter a positive number\")"
   ]
  }
 ],
 "metadata": {
  "kernelspec": {
   "display_name": "Python 3",
   "language": "python",
   "name": "python3"
  },
  "language_info": {
   "codemirror_mode": {
    "name": "ipython",
    "version": 3
   },
   "file_extension": ".py",
   "mimetype": "text/x-python",
   "name": "python",
   "nbconvert_exporter": "python",
   "pygments_lexer": "ipython3",
   "version": "3.8.3"
  }
 },
 "nbformat": 4,
 "nbformat_minor": 4
}
