{
 "cells": [
  {
   "cell_type": "markdown",
   "metadata": {},
   "source": [
    "# 1. Write a Python program to Extract Unique values dictionary values?"
   ]
  },
  {
   "cell_type": "code",
   "execution_count": 1,
   "metadata": {},
   "outputs": [
    {
     "name": "stdout",
     "output_type": "stream",
     "text": [
      "['a', 'b', 'c']\n"
     ]
    }
   ],
   "source": [
    "d = {'1':'a','2':'b','3':'a','4':'b','5':'c'}\n",
    "l = []\n",
    "for val in d.values():\n",
    "    if val in l:\n",
    "        continue\n",
    "    else:\n",
    "        l.append(val)\n",
    "        \n",
    "print(l)"
   ]
  },
  {
   "cell_type": "markdown",
   "metadata": {},
   "source": [
    "# 2. Write a Python program to find the sum of all items in a dictionary?"
   ]
  },
  {
   "cell_type": "code",
   "execution_count": 2,
   "metadata": {},
   "outputs": [
    {
     "name": "stdout",
     "output_type": "stream",
     "text": [
      "2100\n"
     ]
    }
   ],
   "source": [
    "d = {'a':[100,200],'b':[300,400],'c':[500,600]}\n",
    "l = []\n",
    "for i in d.values():\n",
    "    for j in i:\n",
    "        l.append(j)\n",
    "print(sum(l))"
   ]
  },
  {
   "cell_type": "markdown",
   "metadata": {},
   "source": [
    "# 3. Write a Python program to Merging two Dictionaries?"
   ]
  },
  {
   "cell_type": "code",
   "execution_count": 3,
   "metadata": {},
   "outputs": [
    {
     "data": {
      "text/plain": [
       "{'a': 100, 'b': 200, 'c': 300, 'd': 400, 'e': 500, 'f': 600}"
      ]
     },
     "execution_count": 3,
     "metadata": {},
     "output_type": "execute_result"
    }
   ],
   "source": [
    "d1 = {'a':100,'b':200,'c':300}\n",
    "d2 = {'d':400,'e':500,'f':600}\n",
    "d1.update(d2)\n",
    "d1"
   ]
  },
  {
   "cell_type": "markdown",
   "metadata": {},
   "source": [
    "# 4. Write a Python program to convert key-values list to flat dictionary?"
   ]
  },
  {
   "cell_type": "code",
   "execution_count": 4,
   "metadata": {},
   "outputs": [
    {
     "name": "stdout",
     "output_type": "stream",
     "text": [
      "The original dictionary is : {'cars': ['Amaze', 'Swift', 'Nexon'], 'brand': ['Honda', 'Maruti', 'Tata']}\n",
      "Flattened dictionary : {'Amaze': 'Honda', 'Swift': 'Maruti', 'Nexon': 'Tata'}\n"
     ]
    }
   ],
   "source": [
    "dict_1 = {'cars' : ['Amaze', 'Swift', 'Nexon'],\n",
    "             'brand' : ['Honda', 'Maruti', 'Tata']}\n",
    "  \n",
    "\n",
    "print(\"The original dictionary is : \" + str(dict_1))\n",
    "  \n",
    "result = dict(zip(dict_1['cars'], dict_1['brand']))\n",
    "  \n",
    "print(\"Flattened dictionary : \" + str(result)) "
   ]
  },
  {
   "cell_type": "markdown",
   "metadata": {},
   "source": [
    "# 5. Write a Python program to insertion at the beginning in OrderedDict?"
   ]
  },
  {
   "cell_type": "code",
   "execution_count": 7,
   "metadata": {},
   "outputs": [
    {
     "name": "stdout",
     "output_type": "stream",
     "text": [
      "OrderedDict([('a', 100), ('b', 200), ('c', 300), ('d', 400), ('e', 500), ('f', 600)])\n",
      "OrderedDict([('a', 100), ('b', 200), ('c', 300), ('d', 400), ('e', 500), ('f', 600), ('g', 700)])\n",
      "OrderedDict([('g', 700), ('a', 100), ('b', 200), ('c', 300), ('d', 400), ('e', 500), ('f', 600)])\n"
     ]
    }
   ],
   "source": [
    "from collections import OrderedDict\n",
    "\n",
    "d = {'a': 100, 'b': 200, 'c': 300, 'd': 400, 'e': 500, 'f': 600}\n",
    "\n",
    "od = OrderedDict(d)\n",
    "print(od)\n",
    "\n",
    "od['g'] = 700\n",
    "print(od)\n",
    "\n",
    "od.move_to_end('g', False)\n",
    "print(od)"
   ]
  },
  {
   "cell_type": "markdown",
   "metadata": {},
   "source": [
    "# 6. Write a Python program to check order of character in string using OrderedDict()?"
   ]
  },
  {
   "cell_type": "code",
   "execution_count": 8,
   "metadata": {},
   "outputs": [
    {
     "name": "stdout",
     "output_type": "stream",
     "text": [
      "{'a': 1000, 'f': 200, 'd': 300, 'c': 400, 'b': 500, 'e': 600}\n",
      "OrderedDict([('a', 1000), ('b', 500), ('c', 400), ('d', 300), ('e', 600), ('f', 200)])\n"
     ]
    }
   ],
   "source": [
    "unordered = {'a': 1000, 'f': 200, 'd': 300, 'c': 400, 'b': 500, 'e': 600}\n",
    "print(unordered)\n",
    "\n",
    "od = OrderedDict(sorted(unordered.items()))\n",
    "print(od)"
   ]
  },
  {
   "cell_type": "markdown",
   "metadata": {},
   "source": [
    "# 7. Write a Python program to sort Python Dictionaries by Key or Value?\""
   ]
  },
  {
   "cell_type": "code",
   "execution_count": 9,
   "metadata": {},
   "outputs": [
    {
     "name": "stdout",
     "output_type": "stream",
     "text": [
      "Sorted by key:  [('a', 1000), ('b', 500), ('c', 400), ('d', 300), ('e', 600), ('f', 200)]\n"
     ]
    }
   ],
   "source": [
    "d = {'a': 1000, 'f': 200, 'd': 300, 'c': 400, 'b': 500, 'e': 600}\n",
    "sort = sorted(d.items())\n",
    "\n",
    "print(\"Sorted by key: \",sort)"
   ]
  }
 ],
 "metadata": {
  "kernelspec": {
   "display_name": "Python 3",
   "language": "python",
   "name": "python3"
  },
  "language_info": {
   "codemirror_mode": {
    "name": "ipython",
    "version": 3
   },
   "file_extension": ".py",
   "mimetype": "text/x-python",
   "name": "python",
   "nbconvert_exporter": "python",
   "pygments_lexer": "ipython3",
   "version": "3.8.3"
  }
 },
 "nbformat": 4,
 "nbformat_minor": 4
}
