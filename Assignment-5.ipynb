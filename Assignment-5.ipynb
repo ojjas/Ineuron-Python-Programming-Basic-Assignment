{
 "cells": [
  {
   "cell_type": "markdown",
   "metadata": {},
   "source": [
    "# 1. Write a Python Program to Find LCM."
   ]
  },
  {
   "cell_type": "code",
   "execution_count": 2,
   "metadata": {},
   "outputs": [
    {
     "name": "stdout",
     "output_type": "stream",
     "text": [
      "Enter first number: 12\n",
      "Enter second number: 24\n",
      "The LCM of 12 and 24 is: 24\n"
     ]
    }
   ],
   "source": [
    "num_1 = int(input(\"Enter first number: \"))\n",
    "num_2 = int(input(\"Enter second number: \"))\n",
    "\n",
    "max_num = max(num_1,num_2)\n",
    "\n",
    "while(True):\n",
    "    if (max_num % num_1==0 and max_num % num_2==0):\n",
    "        break\n",
    "    max_num = max_num + 1\n",
    "\n",
    "print(f\"The LCM of {num_1} and {num_2} is: {max_num}\")"
   ]
  },
  {
   "cell_type": "markdown",
   "metadata": {},
   "source": [
    "# 2. Write a Python Program to Find HCF."
   ]
  },
  {
   "cell_type": "code",
   "execution_count": 6,
   "metadata": {},
   "outputs": [
    {
     "name": "stdout",
     "output_type": "stream",
     "text": [
      "Enter first number: 4\n",
      "Enter second number: 28\n",
      "HCF of 4 and 28 is: 4\n"
     ]
    }
   ],
   "source": [
    "num_1 = int(input(\"Enter first number: \"))\n",
    "num_2 = int(input(\"Enter second number: \"))\n",
    "\n",
    "min_num = min(num_1 , num_2)\n",
    "\n",
    "for i in range(1, min_num+1):\n",
    "    if (num_1 % i ==0 and num_2 % i ==0):\n",
    "        hcf = i \n",
    "print(f\"HCF of {num_1} and {num_2} is: {hcf}\")"
   ]
  },
  {
   "cell_type": "markdown",
   "metadata": {},
   "source": [
    "# 3. Write a Python Program to Convert Decimal to Binary, Octal and Hexadecimal."
   ]
  },
  {
   "cell_type": "code",
   "execution_count": 12,
   "metadata": {},
   "outputs": [
    {
     "name": "stdout",
     "output_type": "stream",
     "text": [
      "Enter Decimal Value: 25\n",
      "Convert into: 1.Binary , 2.Octal , 3.Hexadecimal : 2\n",
      "\n",
      "In Octal: 0o31\n"
     ]
    }
   ],
   "source": [
    "dec = int(input(\"Enter Decimal Value: \"))\n",
    "\n",
    "opt = int(input(\"Convert into: 1.Binary , 2.Octal , 3.Hexadecimal : \"))\n",
    "print()\n",
    "if opt == 1:\n",
    "    print(f\"In Binary: {bin(dec)}\")\n",
    "elif opt == 2:\n",
    "    print(f\"In Octal: {oct(dec)}\")\n",
    "elif opt == 3:\n",
    "    print(f\"In Hexadecimal: {hex(dec)}\")\n",
    "else:\n",
    "    print(\"Enter valid option.\")"
   ]
  },
  {
   "cell_type": "markdown",
   "metadata": {},
   "source": [
    "# 4. Write a Python Program To Find ASCII value of a character."
   ]
  },
  {
   "cell_type": "code",
   "execution_count": 15,
   "metadata": {},
   "outputs": [
    {
     "name": "stdout",
     "output_type": "stream",
     "text": [
      "Enter character: p\n",
      "The ASCII value of character p is: 112\n"
     ]
    }
   ],
   "source": [
    "char = input(\"Enter character: \")\n",
    "print(f\"The ASCII value of character {char} is: {ord(char)}\")"
   ]
  },
  {
   "cell_type": "markdown",
   "metadata": {},
   "source": [
    "# 5. Write a Python Program to Make a Simple Calculator with 4 basic mathematical operations."
   ]
  },
  {
   "cell_type": "code",
   "execution_count": 21,
   "metadata": {},
   "outputs": [
    {
     "name": "stdout",
     "output_type": "stream",
     "text": [
      "Enter first number: 6\n",
      "Enter second number: 2\n",
      "Select Operation: 1.Addition , 2.Subtraction , 3.Multiplication , 4.Division: 3\n",
      "\n",
      "6 x 2 = 12\n"
     ]
    }
   ],
   "source": [
    "num_1 = int(input(\"Enter first number: \"))\n",
    "num_2 = int(input(\"Enter second number: \"))\n",
    "\n",
    "operator = int(input(\"Select Operation: 1.Addition , 2.Subtraction , 3.Multiplication , 4.Division: \"))\n",
    "print()\n",
    "if operator == 1:\n",
    "    print(f\"{num_1} + {num_2} = {num_1 + num_2}\")\n",
    "    \n",
    "elif operator == 2:\n",
    "    print(f\"{num_1} - {num_2} = {num_1 - num_2}\")\n",
    "    \n",
    "elif operator == 3:\n",
    "    print(f\"{num_1} x {num_2} = {num_1 * num_2}\")\n",
    "    \n",
    "elif operator == 4:\n",
    "    print(f\"{num_1} / {num_2} = {num_1 / num_2}\")\n",
    "\n",
    "else:\n",
    "    print(\"Enter valid option\")"
   ]
  }
 ],
 "metadata": {
  "kernelspec": {
   "display_name": "Python 3",
   "language": "python",
   "name": "python3"
  },
  "language_info": {
   "codemirror_mode": {
    "name": "ipython",
    "version": 3
   },
   "file_extension": ".py",
   "mimetype": "text/x-python",
   "name": "python",
   "nbconvert_exporter": "python",
   "pygments_lexer": "ipython3",
   "version": "3.8.3"
  }
 },
 "nbformat": 4,
 "nbformat_minor": 4
}
