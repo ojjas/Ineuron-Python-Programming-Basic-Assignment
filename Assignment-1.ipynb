{
 "cells": [
  {
   "cell_type": "markdown",
   "metadata": {},
   "source": [
    "# 1. Write a Python program to print \"Hello Python\"."
   ]
  },
  {
   "cell_type": "code",
   "execution_count": 1,
   "metadata": {},
   "outputs": [
    {
     "name": "stdout",
     "output_type": "stream",
     "text": [
      "Hello Python\n"
     ]
    }
   ],
   "source": [
    "print(\"Hello Python\")"
   ]
  },
  {
   "cell_type": "markdown",
   "metadata": {},
   "source": [
    "# 2. Write a Python program to do arithmetical operations addition and division."
   ]
  },
  {
   "cell_type": "code",
   "execution_count": 5,
   "metadata": {},
   "outputs": [
    {
     "name": "stdout",
     "output_type": "stream",
     "text": [
      "Enter first number: 15\n",
      "Enter second number: 3\n",
      "Addition of first and second number is: 18.0\n",
      "Division of first number by second number is: 5.0\n"
     ]
    }
   ],
   "source": [
    "n1 = float(input(\"Enter first number: \"))\n",
    "n2 = float(input(\"Enter second number: \"))\n",
    "sum = n1 + n2\n",
    "div = n1 / n2\n",
    "print(f\"Addition of first and second number is: {sum}\")\n",
    "print(f\"Division of first number by second number is: {div}\")\n"
   ]
  },
  {
   "cell_type": "markdown",
   "metadata": {},
   "source": [
    "# 3. Write a Python program to find the area of a triangle."
   ]
  },
  {
   "cell_type": "code",
   "execution_count": 6,
   "metadata": {},
   "outputs": [
    {
     "name": "stdout",
     "output_type": "stream",
     "text": [
      "Enter the height of triangle: 10\n",
      "Enter the base of triangle: 10\n",
      "The area of triangle is: 50.0\n"
     ]
    }
   ],
   "source": [
    "height = float(input(\"Enter the height of triangle: \"))\n",
    "base = float(input(\"Enter the base of triangle: \"))\n",
    "area = (height * base)/2\n",
    "print(f\"The area of triangle is: {area}\")"
   ]
  },
  {
   "cell_type": "markdown",
   "metadata": {},
   "source": [
    "# 4. Write a Python program to swap two variables."
   ]
  },
  {
   "cell_type": "code",
   "execution_count": 7,
   "metadata": {},
   "outputs": [
    {
     "name": "stdout",
     "output_type": "stream",
     "text": [
      "Enter the value of a: 10\n",
      "Enter the value of b: 20\n",
      "The value of a after swapping: 20\n",
      "The value of b after swapping: 10\n"
     ]
    }
   ],
   "source": [
    "a = int(input(\"Enter the value of a: \"))\n",
    "b = int(input(\"Enter the value of b: \"))\n",
    "\n",
    "b,a = a,b\n",
    "print(f'The value of a after swapping: {a}')\n",
    "print(f'The value of b after swapping: {b}')"
   ]
  },
  {
   "cell_type": "markdown",
   "metadata": {},
   "source": [
    "# 5. Write a Python program to generate a random number."
   ]
  },
  {
   "cell_type": "code",
   "execution_count": 31,
   "metadata": {},
   "outputs": [
    {
     "name": "stdout",
     "output_type": "stream",
     "text": [
      "Enter the start value: 10\n",
      "Enter the end value: 50\n",
      "Random number between 10 and 50 is: 48\n"
     ]
    }
   ],
   "source": [
    "import random\n",
    "\n",
    "start = int(input(\"Enter the start value: \"))\n",
    "end = int(input(\"Enter the end value: \"))\n",
    "\n",
    "print(f\"Random number between {start} and {end} is: {random.randint((start+1),(end-1))}\")"
   ]
  },
  {
   "cell_type": "code",
   "execution_count": null,
   "metadata": {},
   "outputs": [],
   "source": []
  }
 ],
 "metadata": {
  "kernelspec": {
   "display_name": "Python 3",
   "language": "python",
   "name": "python3"
  },
  "language_info": {
   "codemirror_mode": {
    "name": "ipython",
    "version": 3
   },
   "file_extension": ".py",
   "mimetype": "text/x-python",
   "name": "python",
   "nbconvert_exporter": "python",
   "pygments_lexer": "ipython3",
   "version": "3.8.3"
  }
 },
 "nbformat": 4,
 "nbformat_minor": 4
}
